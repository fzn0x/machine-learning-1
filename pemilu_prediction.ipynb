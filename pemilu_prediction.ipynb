{
 "cells": [
  {
   "cell_type": "markdown",
   "metadata": {},
   "source": [
    "# Penerapan Machine Learning dan Data Science pada Pemilu 2024\n",
    "\n",
    "Author: **fzn0x**"
   ]
  },
  {
   "cell_type": "markdown",
   "metadata": {},
   "source": [
    "## Load Dataframe"
   ]
  },
  {
   "cell_type": "code",
   "execution_count": 157,
   "metadata": {},
   "outputs": [
    {
     "data": {
      "text/html": [
       "<div>\n",
       "<style scoped>\n",
       "    .dataframe tbody tr th:only-of-type {\n",
       "        vertical-align: middle;\n",
       "    }\n",
       "\n",
       "    .dataframe tbody tr th {\n",
       "        vertical-align: top;\n",
       "    }\n",
       "\n",
       "    .dataframe thead th {\n",
       "        text-align: right;\n",
       "    }\n",
       "</style>\n",
       "<table border=\"1\" class=\"dataframe\">\n",
       "  <thead>\n",
       "    <tr style=\"text-align: right;\">\n",
       "      <th></th>\n",
       "      <th>kode</th>\n",
       "      <th>provinsi_kode</th>\n",
       "      <th>kabupaten_kota_kode</th>\n",
       "      <th>kecamatan_kode</th>\n",
       "      <th>kelurahan_desa_kode</th>\n",
       "      <th>tps</th>\n",
       "      <th>suara_paslon_1</th>\n",
       "      <th>suara_paslon_2</th>\n",
       "      <th>suara_paslon_3</th>\n",
       "      <th>chasil_hal_1</th>\n",
       "      <th>...</th>\n",
       "      <th>status_adm</th>\n",
       "      <th>updated_at</th>\n",
       "      <th>created_at</th>\n",
       "      <th>url_page</th>\n",
       "      <th>provinsi_nama</th>\n",
       "      <th>kabupaten_kota_nama</th>\n",
       "      <th>kecamatan_nama</th>\n",
       "      <th>kelurahan_desa_nama</th>\n",
       "      <th>url_api</th>\n",
       "      <th>fetch_count</th>\n",
       "    </tr>\n",
       "  </thead>\n",
       "  <tbody>\n",
       "    <tr>\n",
       "      <th>0</th>\n",
       "      <td>1509092004010</td>\n",
       "      <td>15</td>\n",
       "      <td>1509</td>\n",
       "      <td>150909</td>\n",
       "      <td>1509092004</td>\n",
       "      <td>10</td>\n",
       "      <td>17.0</td>\n",
       "      <td>130.0</td>\n",
       "      <td>26.0</td>\n",
       "      <td>https://sirekap-obj-formc.kpu.go.id/3854/pemil...</td>\n",
       "      <td>...</td>\n",
       "      <td>f</td>\n",
       "      <td>2024-03-16 00:29:13.757</td>\n",
       "      <td>2024-02-14 19:51:21.82</td>\n",
       "      <td>https://pemilu2024.kpu.go.id/pilpres/hitung-su...</td>\n",
       "      <td>JAMBI</td>\n",
       "      <td>TEBO</td>\n",
       "      <td>TENGAH ILIR</td>\n",
       "      <td>RANTAU API</td>\n",
       "      <td>https://sirekap-obj-data.kpu.go.id/pemilu/hhcw...</td>\n",
       "      <td>43</td>\n",
       "    </tr>\n",
       "    <tr>\n",
       "      <th>1</th>\n",
       "      <td>3578031006004</td>\n",
       "      <td>35</td>\n",
       "      <td>3578</td>\n",
       "      <td>357803</td>\n",
       "      <td>3578031006</td>\n",
       "      <td>4</td>\n",
       "      <td>37.0</td>\n",
       "      <td>139.0</td>\n",
       "      <td>50.0</td>\n",
       "      <td>https://sirekap-obj-formc.kpu.go.id/34c9/pemil...</td>\n",
       "      <td>...</td>\n",
       "      <td>t</td>\n",
       "      <td>2024-03-16 00:36:36.215</td>\n",
       "      <td>2024-02-14 19:56:43.305</td>\n",
       "      <td>https://pemilu2024.kpu.go.id/pilpres/hitung-su...</td>\n",
       "      <td>JAWA TIMUR</td>\n",
       "      <td>KOTA SURABAYA</td>\n",
       "      <td>RUNGKUT</td>\n",
       "      <td>MEDOKAN AYU</td>\n",
       "      <td>https://sirekap-obj-data.kpu.go.id/pemilu/hhcw...</td>\n",
       "      <td>43</td>\n",
       "    </tr>\n",
       "    <tr>\n",
       "      <th>2</th>\n",
       "      <td>6402022004003</td>\n",
       "      <td>64</td>\n",
       "      <td>6402</td>\n",
       "      <td>640202</td>\n",
       "      <td>6402022004</td>\n",
       "      <td>3</td>\n",
       "      <td>26.0</td>\n",
       "      <td>144.0</td>\n",
       "      <td>23.0</td>\n",
       "      <td>https://sirekap-obj-formc.kpu.go.id/a886/pemil...</td>\n",
       "      <td>...</td>\n",
       "      <td>t</td>\n",
       "      <td>2024-03-16 00:52:53.759</td>\n",
       "      <td>2024-02-14 20:10:09.624</td>\n",
       "      <td>https://pemilu2024.kpu.go.id/pilpres/hitung-su...</td>\n",
       "      <td>KALIMANTAN TIMUR</td>\n",
       "      <td>KUTAI KARTANEGARA</td>\n",
       "      <td>LOA KULU</td>\n",
       "      <td>LOA KULU KOTA</td>\n",
       "      <td>https://sirekap-obj-data.kpu.go.id/pemilu/hhcw...</td>\n",
       "      <td>43</td>\n",
       "    </tr>\n",
       "    <tr>\n",
       "      <th>3</th>\n",
       "      <td>3573011001005</td>\n",
       "      <td>35</td>\n",
       "      <td>3573</td>\n",
       "      <td>357301</td>\n",
       "      <td>3573011001</td>\n",
       "      <td>5</td>\n",
       "      <td>NaN</td>\n",
       "      <td>NaN</td>\n",
       "      <td>NaN</td>\n",
       "      <td>NaN</td>\n",
       "      <td>...</td>\n",
       "      <td>f</td>\n",
       "      <td>2024-03-16 00:40:09.05</td>\n",
       "      <td>2024-02-14 19:59:42.811</td>\n",
       "      <td>https://pemilu2024.kpu.go.id/pilpres/hitung-su...</td>\n",
       "      <td>JAWA TIMUR</td>\n",
       "      <td>KOTA MALANG</td>\n",
       "      <td>BLIMBING</td>\n",
       "      <td>BALEARJOSARI</td>\n",
       "      <td>https://sirekap-obj-data.kpu.go.id/pemilu/hhcw...</td>\n",
       "      <td>43</td>\n",
       "    </tr>\n",
       "    <tr>\n",
       "      <th>4</th>\n",
       "      <td>3206072003001</td>\n",
       "      <td>32</td>\n",
       "      <td>3206</td>\n",
       "      <td>320607</td>\n",
       "      <td>3206072003</td>\n",
       "      <td>1</td>\n",
       "      <td>86.0</td>\n",
       "      <td>131.0</td>\n",
       "      <td>14.0</td>\n",
       "      <td>https://sirekap-obj-formc.kpu.go.id/4b59/pemil...</td>\n",
       "      <td>...</td>\n",
       "      <td>t</td>\n",
       "      <td>2024-03-16 00:40:17.954</td>\n",
       "      <td>2024-02-14 19:59:53.048</td>\n",
       "      <td>https://pemilu2024.kpu.go.id/pilpres/hitung-su...</td>\n",
       "      <td>JAWA BARAT</td>\n",
       "      <td>TASIKMALAYA</td>\n",
       "      <td>PARUNGPONTENG</td>\n",
       "      <td>CIBANTENG</td>\n",
       "      <td>https://sirekap-obj-data.kpu.go.id/pemilu/hhcw...</td>\n",
       "      <td>43</td>\n",
       "    </tr>\n",
       "    <tr>\n",
       "      <th>...</th>\n",
       "      <td>...</td>\n",
       "      <td>...</td>\n",
       "      <td>...</td>\n",
       "      <td>...</td>\n",
       "      <td>...</td>\n",
       "      <td>...</td>\n",
       "      <td>...</td>\n",
       "      <td>...</td>\n",
       "      <td>...</td>\n",
       "      <td>...</td>\n",
       "      <td>...</td>\n",
       "      <td>...</td>\n",
       "      <td>...</td>\n",
       "      <td>...</td>\n",
       "      <td>...</td>\n",
       "      <td>...</td>\n",
       "      <td>...</td>\n",
       "      <td>...</td>\n",
       "      <td>...</td>\n",
       "      <td>...</td>\n",
       "      <td>...</td>\n",
       "    </tr>\n",
       "    <tr>\n",
       "      <th>823231</th>\n",
       "      <td>3213052003026</td>\n",
       "      <td>32</td>\n",
       "      <td>3213</td>\n",
       "      <td>321305</td>\n",
       "      <td>3213052003</td>\n",
       "      <td>26</td>\n",
       "      <td>NaN</td>\n",
       "      <td>NaN</td>\n",
       "      <td>NaN</td>\n",
       "      <td>NaN</td>\n",
       "      <td>...</td>\n",
       "      <td>f</td>\n",
       "      <td>2024-03-16 00:22:19.891</td>\n",
       "      <td>2024-02-14 19:45:31.276</td>\n",
       "      <td>https://pemilu2024.kpu.go.id/pilpres/hitung-su...</td>\n",
       "      <td>JAWA BARAT</td>\n",
       "      <td>SUBANG</td>\n",
       "      <td>PABUARAN</td>\n",
       "      <td>PRINGKASAP</td>\n",
       "      <td>https://sirekap-obj-data.kpu.go.id/pemilu/hhcw...</td>\n",
       "      <td>42</td>\n",
       "    </tr>\n",
       "    <tr>\n",
       "      <th>823232</th>\n",
       "      <td>6504012003002</td>\n",
       "      <td>65</td>\n",
       "      <td>6504</td>\n",
       "      <td>650401</td>\n",
       "      <td>6504012003</td>\n",
       "      <td>2</td>\n",
       "      <td>19.0</td>\n",
       "      <td>118.0</td>\n",
       "      <td>55.0</td>\n",
       "      <td>https://sirekap-obj-formc.kpu.go.id/bbfb/pemil...</td>\n",
       "      <td>...</td>\n",
       "      <td>t</td>\n",
       "      <td>2024-03-16 00:52:53.454</td>\n",
       "      <td>2024-02-14 20:10:09.871</td>\n",
       "      <td>https://pemilu2024.kpu.go.id/pilpres/hitung-su...</td>\n",
       "      <td>KALIMANTAN UTARA</td>\n",
       "      <td>TANA TIDUNG</td>\n",
       "      <td>SESAYAP</td>\n",
       "      <td>SEBIDAI</td>\n",
       "      <td>https://sirekap-obj-data.kpu.go.id/pemilu/hhcw...</td>\n",
       "      <td>43</td>\n",
       "    </tr>\n",
       "    <tr>\n",
       "      <th>823233</th>\n",
       "      <td>1117042012002</td>\n",
       "      <td>11</td>\n",
       "      <td>1117</td>\n",
       "      <td>111704</td>\n",
       "      <td>1117042012</td>\n",
       "      <td>2</td>\n",
       "      <td>120.0</td>\n",
       "      <td>64.0</td>\n",
       "      <td>9.0</td>\n",
       "      <td>https://sirekap-obj-formc.kpu.go.id/b425/pemil...</td>\n",
       "      <td>...</td>\n",
       "      <td>t</td>\n",
       "      <td>2024-03-16 00:58:57.908</td>\n",
       "      <td>2024-02-14 20:15:13.527</td>\n",
       "      <td>https://pemilu2024.kpu.go.id/pilpres/hitung-su...</td>\n",
       "      <td>ACEH</td>\n",
       "      <td>BENER MERIAH</td>\n",
       "      <td>BANDAR</td>\n",
       "      <td>KERAMAT JAYA</td>\n",
       "      <td>https://sirekap-obj-data.kpu.go.id/pemilu/hhcw...</td>\n",
       "      <td>43</td>\n",
       "    </tr>\n",
       "    <tr>\n",
       "      <th>823234</th>\n",
       "      <td>1802082012006</td>\n",
       "      <td>18</td>\n",
       "      <td>1802</td>\n",
       "      <td>180208</td>\n",
       "      <td>1802082012</td>\n",
       "      <td>6</td>\n",
       "      <td>1.0</td>\n",
       "      <td>106.0</td>\n",
       "      <td>24.0</td>\n",
       "      <td>https://sirekap-obj-formc.kpu.go.id/2b30/pemil...</td>\n",
       "      <td>...</td>\n",
       "      <td>t</td>\n",
       "      <td>2024-03-16 00:55:14.603</td>\n",
       "      <td>2024-02-14 20:12:11.897</td>\n",
       "      <td>https://pemilu2024.kpu.go.id/pilpres/hitung-su...</td>\n",
       "      <td>LAMPUNG</td>\n",
       "      <td>LAMPUNG TENGAH</td>\n",
       "      <td>SEPUTIH RAMAN</td>\n",
       "      <td>RAMA MURTI</td>\n",
       "      <td>https://sirekap-obj-data.kpu.go.id/pemilu/hhcw...</td>\n",
       "      <td>43</td>\n",
       "    </tr>\n",
       "    <tr>\n",
       "      <th>823235</th>\n",
       "      <td>5108061020024</td>\n",
       "      <td>51</td>\n",
       "      <td>5108</td>\n",
       "      <td>510806</td>\n",
       "      <td>5108061020</td>\n",
       "      <td>24</td>\n",
       "      <td>NaN</td>\n",
       "      <td>NaN</td>\n",
       "      <td>NaN</td>\n",
       "      <td>NaN</td>\n",
       "      <td>...</td>\n",
       "      <td>f</td>\n",
       "      <td>2024-03-16 00:59:02.886</td>\n",
       "      <td>2024-02-14 20:15:22.406</td>\n",
       "      <td>https://pemilu2024.kpu.go.id/pilpres/hitung-su...</td>\n",
       "      <td>BALI</td>\n",
       "      <td>BULELENG</td>\n",
       "      <td>BULELENG</td>\n",
       "      <td>PENARUKAN</td>\n",
       "      <td>https://sirekap-obj-data.kpu.go.id/pemilu/hhcw...</td>\n",
       "      <td>43</td>\n",
       "    </tr>\n",
       "  </tbody>\n",
       "</table>\n",
       "<p>823236 rows × 43 columns</p>\n",
       "</div>"
      ],
      "text/plain": [
       "                 kode  provinsi_kode kabupaten_kota_kode kecamatan_kode   \n",
       "0       1509092004010             15                1509         150909  \\\n",
       "1       3578031006004             35                3578         357803   \n",
       "2       6402022004003             64                6402         640202   \n",
       "3       3573011001005             35                3573         357301   \n",
       "4       3206072003001             32                3206         320607   \n",
       "...               ...            ...                 ...            ...   \n",
       "823231  3213052003026             32                3213         321305   \n",
       "823232  6504012003002             65                6504         650401   \n",
       "823233  1117042012002             11                1117         111704   \n",
       "823234  1802082012006             18                1802         180208   \n",
       "823235  5108061020024             51                5108         510806   \n",
       "\n",
       "       kelurahan_desa_kode  tps  suara_paslon_1  suara_paslon_2   \n",
       "0               1509092004   10            17.0           130.0  \\\n",
       "1               3578031006    4            37.0           139.0   \n",
       "2               6402022004    3            26.0           144.0   \n",
       "3               3573011001    5             NaN             NaN   \n",
       "4               3206072003    1            86.0           131.0   \n",
       "...                    ...  ...             ...             ...   \n",
       "823231          3213052003   26             NaN             NaN   \n",
       "823232          6504012003    2            19.0           118.0   \n",
       "823233          1117042012    2           120.0            64.0   \n",
       "823234          1802082012    6             1.0           106.0   \n",
       "823235          5108061020   24             NaN             NaN   \n",
       "\n",
       "        suara_paslon_3                                       chasil_hal_1   \n",
       "0                 26.0  https://sirekap-obj-formc.kpu.go.id/3854/pemil...  \\\n",
       "1                 50.0  https://sirekap-obj-formc.kpu.go.id/34c9/pemil...   \n",
       "2                 23.0  https://sirekap-obj-formc.kpu.go.id/a886/pemil...   \n",
       "3                  NaN                                                NaN   \n",
       "4                 14.0  https://sirekap-obj-formc.kpu.go.id/4b59/pemil...   \n",
       "...                ...                                                ...   \n",
       "823231             NaN                                                NaN   \n",
       "823232            55.0  https://sirekap-obj-formc.kpu.go.id/bbfb/pemil...   \n",
       "823233             9.0  https://sirekap-obj-formc.kpu.go.id/b425/pemil...   \n",
       "823234            24.0  https://sirekap-obj-formc.kpu.go.id/2b30/pemil...   \n",
       "823235             NaN                                                NaN   \n",
       "\n",
       "        ... status_adm               updated_at               created_at   \n",
       "0       ...          f  2024-03-16 00:29:13.757   2024-02-14 19:51:21.82  \\\n",
       "1       ...          t  2024-03-16 00:36:36.215  2024-02-14 19:56:43.305   \n",
       "2       ...          t  2024-03-16 00:52:53.759  2024-02-14 20:10:09.624   \n",
       "3       ...          f   2024-03-16 00:40:09.05  2024-02-14 19:59:42.811   \n",
       "4       ...          t  2024-03-16 00:40:17.954  2024-02-14 19:59:53.048   \n",
       "...     ...        ...                      ...                      ...   \n",
       "823231  ...          f  2024-03-16 00:22:19.891  2024-02-14 19:45:31.276   \n",
       "823232  ...          t  2024-03-16 00:52:53.454  2024-02-14 20:10:09.871   \n",
       "823233  ...          t  2024-03-16 00:58:57.908  2024-02-14 20:15:13.527   \n",
       "823234  ...          t  2024-03-16 00:55:14.603  2024-02-14 20:12:11.897   \n",
       "823235  ...          f  2024-03-16 00:59:02.886  2024-02-14 20:15:22.406   \n",
       "\n",
       "                                                 url_page     provinsi_nama   \n",
       "0       https://pemilu2024.kpu.go.id/pilpres/hitung-su...             JAMBI  \\\n",
       "1       https://pemilu2024.kpu.go.id/pilpres/hitung-su...        JAWA TIMUR   \n",
       "2       https://pemilu2024.kpu.go.id/pilpres/hitung-su...  KALIMANTAN TIMUR   \n",
       "3       https://pemilu2024.kpu.go.id/pilpres/hitung-su...        JAWA TIMUR   \n",
       "4       https://pemilu2024.kpu.go.id/pilpres/hitung-su...        JAWA BARAT   \n",
       "...                                                   ...               ...   \n",
       "823231  https://pemilu2024.kpu.go.id/pilpres/hitung-su...        JAWA BARAT   \n",
       "823232  https://pemilu2024.kpu.go.id/pilpres/hitung-su...  KALIMANTAN UTARA   \n",
       "823233  https://pemilu2024.kpu.go.id/pilpres/hitung-su...              ACEH   \n",
       "823234  https://pemilu2024.kpu.go.id/pilpres/hitung-su...           LAMPUNG   \n",
       "823235  https://pemilu2024.kpu.go.id/pilpres/hitung-su...              BALI   \n",
       "\n",
       "        kabupaten_kota_nama  kecamatan_nama  kelurahan_desa_nama   \n",
       "0                      TEBO     TENGAH ILIR           RANTAU API  \\\n",
       "1             KOTA SURABAYA         RUNGKUT          MEDOKAN AYU   \n",
       "2         KUTAI KARTANEGARA        LOA KULU        LOA KULU KOTA   \n",
       "3               KOTA MALANG        BLIMBING         BALEARJOSARI   \n",
       "4               TASIKMALAYA   PARUNGPONTENG            CIBANTENG   \n",
       "...                     ...             ...                  ...   \n",
       "823231               SUBANG        PABUARAN           PRINGKASAP   \n",
       "823232          TANA TIDUNG         SESAYAP              SEBIDAI   \n",
       "823233         BENER MERIAH          BANDAR         KERAMAT JAYA   \n",
       "823234       LAMPUNG TENGAH   SEPUTIH RAMAN           RAMA MURTI   \n",
       "823235             BULELENG        BULELENG            PENARUKAN   \n",
       "\n",
       "                                                  url_api  fetch_count  \n",
       "0       https://sirekap-obj-data.kpu.go.id/pemilu/hhcw...           43  \n",
       "1       https://sirekap-obj-data.kpu.go.id/pemilu/hhcw...           43  \n",
       "2       https://sirekap-obj-data.kpu.go.id/pemilu/hhcw...           43  \n",
       "3       https://sirekap-obj-data.kpu.go.id/pemilu/hhcw...           43  \n",
       "4       https://sirekap-obj-data.kpu.go.id/pemilu/hhcw...           43  \n",
       "...                                                   ...          ...  \n",
       "823231  https://sirekap-obj-data.kpu.go.id/pemilu/hhcw...           42  \n",
       "823232  https://sirekap-obj-data.kpu.go.id/pemilu/hhcw...           43  \n",
       "823233  https://sirekap-obj-data.kpu.go.id/pemilu/hhcw...           43  \n",
       "823234  https://sirekap-obj-data.kpu.go.id/pemilu/hhcw...           43  \n",
       "823235  https://sirekap-obj-data.kpu.go.id/pemilu/hhcw...           43  \n",
       "\n",
       "[823236 rows x 43 columns]"
      ]
     },
     "execution_count": 157,
     "metadata": {},
     "output_type": "execute_result"
    }
   ],
   "source": [
    "import pandas as pd\n",
    "\n",
    "df = pd.read_csv(\"./ppwp_tps.csv\", engine='python')\n",
    "df"
   ]
  },
  {
   "cell_type": "markdown",
   "metadata": {},
   "source": [
    "## Data preparation\n",
    "\n",
    "- Data separation as X and Y"
   ]
  },
  {
   "cell_type": "code",
   "execution_count": 158,
   "metadata": {},
   "outputs": [],
   "source": [
    "x = df[['suara_paslon_1', 'suara_paslon_2', 'suara_paslon_3']]\n",
    "y = x.sum(axis=1)"
   ]
  },
  {
   "cell_type": "markdown",
   "metadata": {},
   "source": [
    "## Data splitting"
   ]
  },
  {
   "cell_type": "code",
   "execution_count": 159,
   "metadata": {},
   "outputs": [
    {
     "data": {
      "text/html": [
       "<div>\n",
       "<style scoped>\n",
       "    .dataframe tbody tr th:only-of-type {\n",
       "        vertical-align: middle;\n",
       "    }\n",
       "\n",
       "    .dataframe tbody tr th {\n",
       "        vertical-align: top;\n",
       "    }\n",
       "\n",
       "    .dataframe thead th {\n",
       "        text-align: right;\n",
       "    }\n",
       "</style>\n",
       "<table border=\"1\" class=\"dataframe\">\n",
       "  <thead>\n",
       "    <tr style=\"text-align: right;\">\n",
       "      <th></th>\n",
       "      <th>suara_paslon_1</th>\n",
       "      <th>suara_paslon_2</th>\n",
       "      <th>suara_paslon_3</th>\n",
       "    </tr>\n",
       "  </thead>\n",
       "  <tbody>\n",
       "    <tr>\n",
       "      <th>34646</th>\n",
       "      <td>20.0</td>\n",
       "      <td>116.0</td>\n",
       "      <td>28.0</td>\n",
       "    </tr>\n",
       "    <tr>\n",
       "      <th>731534</th>\n",
       "      <td>NaN</td>\n",
       "      <td>NaN</td>\n",
       "      <td>NaN</td>\n",
       "    </tr>\n",
       "    <tr>\n",
       "      <th>699133</th>\n",
       "      <td>2.0</td>\n",
       "      <td>121.0</td>\n",
       "      <td>46.0</td>\n",
       "    </tr>\n",
       "    <tr>\n",
       "      <th>622755</th>\n",
       "      <td>NaN</td>\n",
       "      <td>NaN</td>\n",
       "      <td>NaN</td>\n",
       "    </tr>\n",
       "    <tr>\n",
       "      <th>53354</th>\n",
       "      <td>10.0</td>\n",
       "      <td>117.0</td>\n",
       "      <td>69.0</td>\n",
       "    </tr>\n",
       "    <tr>\n",
       "      <th>...</th>\n",
       "      <td>...</td>\n",
       "      <td>...</td>\n",
       "      <td>...</td>\n",
       "    </tr>\n",
       "    <tr>\n",
       "      <th>212912</th>\n",
       "      <td>NaN</td>\n",
       "      <td>NaN</td>\n",
       "      <td>NaN</td>\n",
       "    </tr>\n",
       "    <tr>\n",
       "      <th>65615</th>\n",
       "      <td>35.0</td>\n",
       "      <td>123.0</td>\n",
       "      <td>15.0</td>\n",
       "    </tr>\n",
       "    <tr>\n",
       "      <th>778087</th>\n",
       "      <td>121.0</td>\n",
       "      <td>78.0</td>\n",
       "      <td>8.0</td>\n",
       "    </tr>\n",
       "    <tr>\n",
       "      <th>210755</th>\n",
       "      <td>82.0</td>\n",
       "      <td>100.0</td>\n",
       "      <td>6.0</td>\n",
       "    </tr>\n",
       "    <tr>\n",
       "      <th>56088</th>\n",
       "      <td>NaN</td>\n",
       "      <td>NaN</td>\n",
       "      <td>NaN</td>\n",
       "    </tr>\n",
       "  </tbody>\n",
       "</table>\n",
       "<p>658588 rows × 3 columns</p>\n",
       "</div>"
      ],
      "text/plain": [
       "        suara_paslon_1  suara_paslon_2  suara_paslon_3\n",
       "34646             20.0           116.0            28.0\n",
       "731534             NaN             NaN             NaN\n",
       "699133             2.0           121.0            46.0\n",
       "622755             NaN             NaN             NaN\n",
       "53354             10.0           117.0            69.0\n",
       "...                ...             ...             ...\n",
       "212912             NaN             NaN             NaN\n",
       "65615             35.0           123.0            15.0\n",
       "778087           121.0            78.0             8.0\n",
       "210755            82.0           100.0             6.0\n",
       "56088              NaN             NaN             NaN\n",
       "\n",
       "[658588 rows x 3 columns]"
      ]
     },
     "execution_count": 159,
     "metadata": {},
     "output_type": "execute_result"
    }
   ],
   "source": [
    "from sklearn.model_selection import train_test_split\n",
    "\n",
    "x_train, x_test, y_train, y_test = train_test_split(x, y, test_size=0.2, random_state=100)\n",
    "x_train"
   ]
  },
  {
   "cell_type": "code",
   "execution_count": 160,
   "metadata": {},
   "outputs": [
    {
     "data": {
      "text/html": [
       "<div>\n",
       "<style scoped>\n",
       "    .dataframe tbody tr th:only-of-type {\n",
       "        vertical-align: middle;\n",
       "    }\n",
       "\n",
       "    .dataframe tbody tr th {\n",
       "        vertical-align: top;\n",
       "    }\n",
       "\n",
       "    .dataframe thead th {\n",
       "        text-align: right;\n",
       "    }\n",
       "</style>\n",
       "<table border=\"1\" class=\"dataframe\">\n",
       "  <thead>\n",
       "    <tr style=\"text-align: right;\">\n",
       "      <th></th>\n",
       "      <th>suara_paslon_1</th>\n",
       "      <th>suara_paslon_2</th>\n",
       "      <th>suara_paslon_3</th>\n",
       "    </tr>\n",
       "  </thead>\n",
       "  <tbody>\n",
       "    <tr>\n",
       "      <th>767447</th>\n",
       "      <td>NaN</td>\n",
       "      <td>NaN</td>\n",
       "      <td>NaN</td>\n",
       "    </tr>\n",
       "    <tr>\n",
       "      <th>543982</th>\n",
       "      <td>37.0</td>\n",
       "      <td>121.0</td>\n",
       "      <td>32.0</td>\n",
       "    </tr>\n",
       "    <tr>\n",
       "      <th>306721</th>\n",
       "      <td>NaN</td>\n",
       "      <td>NaN</td>\n",
       "      <td>NaN</td>\n",
       "    </tr>\n",
       "    <tr>\n",
       "      <th>319537</th>\n",
       "      <td>78.0</td>\n",
       "      <td>89.0</td>\n",
       "      <td>16.0</td>\n",
       "    </tr>\n",
       "    <tr>\n",
       "      <th>210058</th>\n",
       "      <td>61.0</td>\n",
       "      <td>101.0</td>\n",
       "      <td>28.0</td>\n",
       "    </tr>\n",
       "    <tr>\n",
       "      <th>...</th>\n",
       "      <td>...</td>\n",
       "      <td>...</td>\n",
       "      <td>...</td>\n",
       "    </tr>\n",
       "    <tr>\n",
       "      <th>348836</th>\n",
       "      <td>NaN</td>\n",
       "      <td>NaN</td>\n",
       "      <td>NaN</td>\n",
       "    </tr>\n",
       "    <tr>\n",
       "      <th>805189</th>\n",
       "      <td>30.0</td>\n",
       "      <td>163.0</td>\n",
       "      <td>28.0</td>\n",
       "    </tr>\n",
       "    <tr>\n",
       "      <th>809531</th>\n",
       "      <td>0.0</td>\n",
       "      <td>34.0</td>\n",
       "      <td>19.0</td>\n",
       "    </tr>\n",
       "    <tr>\n",
       "      <th>641801</th>\n",
       "      <td>113.0</td>\n",
       "      <td>82.0</td>\n",
       "      <td>6.0</td>\n",
       "    </tr>\n",
       "    <tr>\n",
       "      <th>650616</th>\n",
       "      <td>20.0</td>\n",
       "      <td>172.0</td>\n",
       "      <td>6.0</td>\n",
       "    </tr>\n",
       "  </tbody>\n",
       "</table>\n",
       "<p>164648 rows × 3 columns</p>\n",
       "</div>"
      ],
      "text/plain": [
       "        suara_paslon_1  suara_paslon_2  suara_paslon_3\n",
       "767447             NaN             NaN             NaN\n",
       "543982            37.0           121.0            32.0\n",
       "306721             NaN             NaN             NaN\n",
       "319537            78.0            89.0            16.0\n",
       "210058            61.0           101.0            28.0\n",
       "...                ...             ...             ...\n",
       "348836             NaN             NaN             NaN\n",
       "805189            30.0           163.0            28.0\n",
       "809531             0.0            34.0            19.0\n",
       "641801           113.0            82.0             6.0\n",
       "650616            20.0           172.0             6.0\n",
       "\n",
       "[164648 rows x 3 columns]"
      ]
     },
     "execution_count": 160,
     "metadata": {},
     "output_type": "execute_result"
    }
   ],
   "source": [
    "x_test"
   ]
  },
  {
   "cell_type": "markdown",
   "metadata": {},
   "source": [
    "## Model Building"
   ]
  },
  {
   "cell_type": "markdown",
   "metadata": {},
   "source": [
    "### Hist Gradient Boosting Regressor"
   ]
  },
  {
   "cell_type": "markdown",
   "metadata": {},
   "source": [
    "#### Training the model"
   ]
  },
  {
   "cell_type": "code",
   "execution_count": 161,
   "metadata": {},
   "outputs": [
    {
     "data": {
      "text/html": [
       "<style>#sk-container-id-11 {color: black;background-color: white;}#sk-container-id-11 pre{padding: 0;}#sk-container-id-11 div.sk-toggleable {background-color: white;}#sk-container-id-11 label.sk-toggleable__label {cursor: pointer;display: block;width: 100%;margin-bottom: 0;padding: 0.3em;box-sizing: border-box;text-align: center;}#sk-container-id-11 label.sk-toggleable__label-arrow:before {content: \"▸\";float: left;margin-right: 0.25em;color: #696969;}#sk-container-id-11 label.sk-toggleable__label-arrow:hover:before {color: black;}#sk-container-id-11 div.sk-estimator:hover label.sk-toggleable__label-arrow:before {color: black;}#sk-container-id-11 div.sk-toggleable__content {max-height: 0;max-width: 0;overflow: hidden;text-align: left;background-color: #f0f8ff;}#sk-container-id-11 div.sk-toggleable__content pre {margin: 0.2em;color: black;border-radius: 0.25em;background-color: #f0f8ff;}#sk-container-id-11 input.sk-toggleable__control:checked~div.sk-toggleable__content {max-height: 200px;max-width: 100%;overflow: auto;}#sk-container-id-11 input.sk-toggleable__control:checked~label.sk-toggleable__label-arrow:before {content: \"▾\";}#sk-container-id-11 div.sk-estimator input.sk-toggleable__control:checked~label.sk-toggleable__label {background-color: #d4ebff;}#sk-container-id-11 div.sk-label input.sk-toggleable__control:checked~label.sk-toggleable__label {background-color: #d4ebff;}#sk-container-id-11 input.sk-hidden--visually {border: 0;clip: rect(1px 1px 1px 1px);clip: rect(1px, 1px, 1px, 1px);height: 1px;margin: -1px;overflow: hidden;padding: 0;position: absolute;width: 1px;}#sk-container-id-11 div.sk-estimator {font-family: monospace;background-color: #f0f8ff;border: 1px dotted black;border-radius: 0.25em;box-sizing: border-box;margin-bottom: 0.5em;}#sk-container-id-11 div.sk-estimator:hover {background-color: #d4ebff;}#sk-container-id-11 div.sk-parallel-item::after {content: \"\";width: 100%;border-bottom: 1px solid gray;flex-grow: 1;}#sk-container-id-11 div.sk-label:hover label.sk-toggleable__label {background-color: #d4ebff;}#sk-container-id-11 div.sk-serial::before {content: \"\";position: absolute;border-left: 1px solid gray;box-sizing: border-box;top: 0;bottom: 0;left: 50%;z-index: 0;}#sk-container-id-11 div.sk-serial {display: flex;flex-direction: column;align-items: center;background-color: white;padding-right: 0.2em;padding-left: 0.2em;position: relative;}#sk-container-id-11 div.sk-item {position: relative;z-index: 1;}#sk-container-id-11 div.sk-parallel {display: flex;align-items: stretch;justify-content: center;background-color: white;position: relative;}#sk-container-id-11 div.sk-item::before, #sk-container-id-11 div.sk-parallel-item::before {content: \"\";position: absolute;border-left: 1px solid gray;box-sizing: border-box;top: 0;bottom: 0;left: 50%;z-index: -1;}#sk-container-id-11 div.sk-parallel-item {display: flex;flex-direction: column;z-index: 1;position: relative;background-color: white;}#sk-container-id-11 div.sk-parallel-item:first-child::after {align-self: flex-end;width: 50%;}#sk-container-id-11 div.sk-parallel-item:last-child::after {align-self: flex-start;width: 50%;}#sk-container-id-11 div.sk-parallel-item:only-child::after {width: 0;}#sk-container-id-11 div.sk-dashed-wrapped {border: 1px dashed gray;margin: 0 0.4em 0.5em 0.4em;box-sizing: border-box;padding-bottom: 0.4em;background-color: white;}#sk-container-id-11 div.sk-label label {font-family: monospace;font-weight: bold;display: inline-block;line-height: 1.2em;}#sk-container-id-11 div.sk-label-container {text-align: center;}#sk-container-id-11 div.sk-container {/* jupyter's `normalize.less` sets `[hidden] { display: none; }` but bootstrap.min.css set `[hidden] { display: none !important; }` so we also need the `!important` here to be able to override the default hidden behavior on the sphinx rendered scikit-learn.org. See: https://github.com/scikit-learn/scikit-learn/issues/21755 */display: inline-block !important;position: relative;}#sk-container-id-11 div.sk-text-repr-fallback {display: none;}</style><div id=\"sk-container-id-11\" class=\"sk-top-container\"><div class=\"sk-text-repr-fallback\"><pre>HistGradientBoostingRegressor()</pre><b>In a Jupyter environment, please rerun this cell to show the HTML representation or trust the notebook. <br />On GitHub, the HTML representation is unable to render, please try loading this page with nbviewer.org.</b></div><div class=\"sk-container\" hidden><div class=\"sk-item\"><div class=\"sk-estimator sk-toggleable\"><input class=\"sk-toggleable__control sk-hidden--visually\" id=\"sk-estimator-id-11\" type=\"checkbox\" checked><label for=\"sk-estimator-id-11\" class=\"sk-toggleable__label sk-toggleable__label-arrow\">HistGradientBoostingRegressor</label><div class=\"sk-toggleable__content\"><pre>HistGradientBoostingRegressor()</pre></div></div></div></div></div>"
      ],
      "text/plain": [
       "HistGradientBoostingRegressor()"
      ]
     },
     "execution_count": 161,
     "metadata": {},
     "output_type": "execute_result"
    }
   ],
   "source": [
    "from sklearn.ensemble import HistGradientBoostingRegressor\n",
    "\n",
    "hgbr = HistGradientBoostingRegressor()\n",
    "hgbr.fit(x_train, y_train)"
   ]
  },
  {
   "cell_type": "markdown",
   "metadata": {},
   "source": [
    "#### Applying the model to make a prediction"
   ]
  },
  {
   "cell_type": "code",
   "execution_count": 162,
   "metadata": {},
   "outputs": [
    {
     "data": {
      "text/plain": [
       "array([1.64409053e+02, 1.89215439e-02, 1.66130754e+02, ...,\n",
       "       2.05989256e+02, 1.88165025e+02, 1.89215439e-02])"
      ]
     },
     "execution_count": 162,
     "metadata": {},
     "output_type": "execute_result"
    }
   ],
   "source": [
    "hgbr_y_train_pred = hgbr.predict(x_train)\n",
    "hgbr_y_test_pred = hgbr.predict(x_test)\n",
    "\n",
    "hgbr_y_train_pred"
   ]
  },
  {
   "cell_type": "code",
   "execution_count": 163,
   "metadata": {},
   "outputs": [
    {
     "data": {
      "text/plain": [
       "array([1.89215439e-02, 1.91082080e+02, 1.89215439e-02, ...,\n",
       "       5.72380539e+01, 2.01450192e+02, 1.99680096e+02])"
      ]
     },
     "execution_count": 163,
     "metadata": {},
     "output_type": "execute_result"
    }
   ],
   "source": [
    "hgbr_y_test_pred"
   ]
  },
  {
   "cell_type": "markdown",
   "metadata": {},
   "source": [
    "#### Evaluate model performance"
   ]
  },
  {
   "cell_type": "code",
   "execution_count": 164,
   "metadata": {},
   "outputs": [],
   "source": [
    "from sklearn.metrics import mean_squared_error, r2_score\n",
    "\n",
    "hgbr_train_mse = mean_squared_error(y_train, hgbr_y_train_pred)\n",
    "hgbr_train_r2 = r2_score(y_train, hgbr_y_train_pred)\n",
    "\n",
    "hgbr_test_mse = mean_squared_error(y_test, hgbr_y_test_pred)\n",
    "hgbr_test_r2 = r2_score(y_test, hgbr_y_test_pred)\n"
   ]
  },
  {
   "cell_type": "code",
   "execution_count": 165,
   "metadata": {},
   "outputs": [
    {
     "name": "stdout",
     "output_type": "stream",
     "text": [
      "HGBR MSE (Train):  40.093519574313824\n",
      "HGBR R2 (Train):  0.9950011488581814\n",
      "HGBR MSE (Test):  81.57818684324478\n",
      "HGBR R2 (Test):  0.9896339048991853\n"
     ]
    }
   ],
   "source": [
    "print('HGBR MSE (Train): ', hgbr_train_mse)\n",
    "print('HGBR R2 (Train): ', hgbr_train_r2)\n",
    "print('HGBR MSE (Test): ', hgbr_test_mse)\n",
    "print('HGBR R2 (Test): ', hgbr_test_r2)"
   ]
  },
  {
   "cell_type": "code",
   "execution_count": 166,
   "metadata": {},
   "outputs": [],
   "source": [
    "hgbr_results = pd.DataFrame(['Hist Gradient Boosting Regressor', hgbr_train_mse, hgbr_train_r2, hgbr_test_mse, hgbr_test_r2]).transpose()\n",
    "hgbr_results.columns = ['Method', 'Training MSE', 'Training R2', 'Test MSE', 'Test R2']"
   ]
  },
  {
   "cell_type": "markdown",
   "metadata": {},
   "source": [
    "Method: This column specifies the method or algorithm used for training the regression model. In this case, the method used is \"Hist Gradient Boosting Regressor,\" which is a gradient boosting algorithm implemented in scikit-learn.\n",
    "\n",
    "Training MSE (Mean Squared Error): MSE is a measure of the average squared differences between the actual and predicted values in the training dataset. A lower MSE indicates better performance, as it means the model's predictions are closer to the actual values. In this case, the training MSE is approximately 37.42, suggesting that, on average, the squared differences between the predicted and actual values in the training dataset are relatively low.\n",
    "\n",
    "Training R2 (R-squared): R-squared is a statistical measure that represents the proportion of the variance in the dependent variable (target) that is explained by the independent variables (features) in the model. It ranges from 0 to 1, where 1 indicates a perfect fit. In this case, the training R2 is approximately 0.995, suggesting that the model explains around 99.5% of the variance in the training data, indicating a very good fit.\n",
    "\n",
    "Test MSE (Mean Squared Error): Similar to training MSE, test MSE measures the average squared differences between the actual and predicted values in the testing dataset. It serves as a measure of the model's performance on unseen data. In this case, the test MSE is approximately 74.42, indicating that, on average, the squared differences between the predicted and actual values in the testing dataset are relatively low but slightly higher than the training MSE.\n",
    "\n",
    "Test R2 (R-squared): Test R2 represents the proportion of the variance in the dependent variable that is explained by the independent variables in the model, evaluated on the testing dataset. A higher R2 value indicates better predictive performance. In this case, the test R2 is approximately 0.991, indicating that the model explains around 99.1% of the variance in the testing data, suggesting a very good predictive performance on unseen data, although slightly lower than the training R2."
   ]
  },
  {
   "cell_type": "code",
   "execution_count": 167,
   "metadata": {},
   "outputs": [
    {
     "data": {
      "text/html": [
       "<div>\n",
       "<style scoped>\n",
       "    .dataframe tbody tr th:only-of-type {\n",
       "        vertical-align: middle;\n",
       "    }\n",
       "\n",
       "    .dataframe tbody tr th {\n",
       "        vertical-align: top;\n",
       "    }\n",
       "\n",
       "    .dataframe thead th {\n",
       "        text-align: right;\n",
       "    }\n",
       "</style>\n",
       "<table border=\"1\" class=\"dataframe\">\n",
       "  <thead>\n",
       "    <tr style=\"text-align: right;\">\n",
       "      <th></th>\n",
       "      <th>Method</th>\n",
       "      <th>Training MSE</th>\n",
       "      <th>Training R2</th>\n",
       "      <th>Test MSE</th>\n",
       "      <th>Test R2</th>\n",
       "    </tr>\n",
       "  </thead>\n",
       "  <tbody>\n",
       "    <tr>\n",
       "      <th>0</th>\n",
       "      <td>Hist Gradient Boosting Regressor</td>\n",
       "      <td>40.09352</td>\n",
       "      <td>0.995001</td>\n",
       "      <td>81.578187</td>\n",
       "      <td>0.989634</td>\n",
       "    </tr>\n",
       "  </tbody>\n",
       "</table>\n",
       "</div>"
      ],
      "text/plain": [
       "                             Method Training MSE Training R2   Test MSE   \n",
       "0  Hist Gradient Boosting Regressor     40.09352    0.995001  81.578187  \\\n",
       "\n",
       "    Test R2  \n",
       "0  0.989634  "
      ]
     },
     "execution_count": 167,
     "metadata": {},
     "output_type": "execute_result"
    }
   ],
   "source": [
    "hgbr_results"
   ]
  },
  {
   "cell_type": "markdown",
   "metadata": {},
   "source": [
    "### Random Forest"
   ]
  },
  {
   "cell_type": "markdown",
   "metadata": {},
   "source": [
    "#### Training the model"
   ]
  },
  {
   "cell_type": "code",
   "execution_count": 168,
   "metadata": {},
   "outputs": [
    {
     "data": {
      "text/html": [
       "<style>#sk-container-id-12 {color: black;background-color: white;}#sk-container-id-12 pre{padding: 0;}#sk-container-id-12 div.sk-toggleable {background-color: white;}#sk-container-id-12 label.sk-toggleable__label {cursor: pointer;display: block;width: 100%;margin-bottom: 0;padding: 0.3em;box-sizing: border-box;text-align: center;}#sk-container-id-12 label.sk-toggleable__label-arrow:before {content: \"▸\";float: left;margin-right: 0.25em;color: #696969;}#sk-container-id-12 label.sk-toggleable__label-arrow:hover:before {color: black;}#sk-container-id-12 div.sk-estimator:hover label.sk-toggleable__label-arrow:before {color: black;}#sk-container-id-12 div.sk-toggleable__content {max-height: 0;max-width: 0;overflow: hidden;text-align: left;background-color: #f0f8ff;}#sk-container-id-12 div.sk-toggleable__content pre {margin: 0.2em;color: black;border-radius: 0.25em;background-color: #f0f8ff;}#sk-container-id-12 input.sk-toggleable__control:checked~div.sk-toggleable__content {max-height: 200px;max-width: 100%;overflow: auto;}#sk-container-id-12 input.sk-toggleable__control:checked~label.sk-toggleable__label-arrow:before {content: \"▾\";}#sk-container-id-12 div.sk-estimator input.sk-toggleable__control:checked~label.sk-toggleable__label {background-color: #d4ebff;}#sk-container-id-12 div.sk-label input.sk-toggleable__control:checked~label.sk-toggleable__label {background-color: #d4ebff;}#sk-container-id-12 input.sk-hidden--visually {border: 0;clip: rect(1px 1px 1px 1px);clip: rect(1px, 1px, 1px, 1px);height: 1px;margin: -1px;overflow: hidden;padding: 0;position: absolute;width: 1px;}#sk-container-id-12 div.sk-estimator {font-family: monospace;background-color: #f0f8ff;border: 1px dotted black;border-radius: 0.25em;box-sizing: border-box;margin-bottom: 0.5em;}#sk-container-id-12 div.sk-estimator:hover {background-color: #d4ebff;}#sk-container-id-12 div.sk-parallel-item::after {content: \"\";width: 100%;border-bottom: 1px solid gray;flex-grow: 1;}#sk-container-id-12 div.sk-label:hover label.sk-toggleable__label {background-color: #d4ebff;}#sk-container-id-12 div.sk-serial::before {content: \"\";position: absolute;border-left: 1px solid gray;box-sizing: border-box;top: 0;bottom: 0;left: 50%;z-index: 0;}#sk-container-id-12 div.sk-serial {display: flex;flex-direction: column;align-items: center;background-color: white;padding-right: 0.2em;padding-left: 0.2em;position: relative;}#sk-container-id-12 div.sk-item {position: relative;z-index: 1;}#sk-container-id-12 div.sk-parallel {display: flex;align-items: stretch;justify-content: center;background-color: white;position: relative;}#sk-container-id-12 div.sk-item::before, #sk-container-id-12 div.sk-parallel-item::before {content: \"\";position: absolute;border-left: 1px solid gray;box-sizing: border-box;top: 0;bottom: 0;left: 50%;z-index: -1;}#sk-container-id-12 div.sk-parallel-item {display: flex;flex-direction: column;z-index: 1;position: relative;background-color: white;}#sk-container-id-12 div.sk-parallel-item:first-child::after {align-self: flex-end;width: 50%;}#sk-container-id-12 div.sk-parallel-item:last-child::after {align-self: flex-start;width: 50%;}#sk-container-id-12 div.sk-parallel-item:only-child::after {width: 0;}#sk-container-id-12 div.sk-dashed-wrapped {border: 1px dashed gray;margin: 0 0.4em 0.5em 0.4em;box-sizing: border-box;padding-bottom: 0.4em;background-color: white;}#sk-container-id-12 div.sk-label label {font-family: monospace;font-weight: bold;display: inline-block;line-height: 1.2em;}#sk-container-id-12 div.sk-label-container {text-align: center;}#sk-container-id-12 div.sk-container {/* jupyter's `normalize.less` sets `[hidden] { display: none; }` but bootstrap.min.css set `[hidden] { display: none !important; }` so we also need the `!important` here to be able to override the default hidden behavior on the sphinx rendered scikit-learn.org. See: https://github.com/scikit-learn/scikit-learn/issues/21755 */display: inline-block !important;position: relative;}#sk-container-id-12 div.sk-text-repr-fallback {display: none;}</style><div id=\"sk-container-id-12\" class=\"sk-top-container\"><div class=\"sk-text-repr-fallback\"><pre>RandomForestRegressor(max_depth=2, random_state=100)</pre><b>In a Jupyter environment, please rerun this cell to show the HTML representation or trust the notebook. <br />On GitHub, the HTML representation is unable to render, please try loading this page with nbviewer.org.</b></div><div class=\"sk-container\" hidden><div class=\"sk-item\"><div class=\"sk-estimator sk-toggleable\"><input class=\"sk-toggleable__control sk-hidden--visually\" id=\"sk-estimator-id-12\" type=\"checkbox\" checked><label for=\"sk-estimator-id-12\" class=\"sk-toggleable__label sk-toggleable__label-arrow\">RandomForestRegressor</label><div class=\"sk-toggleable__content\"><pre>RandomForestRegressor(max_depth=2, random_state=100)</pre></div></div></div></div></div>"
      ],
      "text/plain": [
       "RandomForestRegressor(max_depth=2, random_state=100)"
      ]
     },
     "execution_count": 168,
     "metadata": {},
     "output_type": "execute_result"
    }
   ],
   "source": [
    "from sklearn.ensemble import RandomForestRegressor\n",
    "from sklearn.impute import SimpleImputer\n",
    "\n",
    "# Assuming x_train and y_train are your training data with NaN values in x_train\n",
    "# Instantiate the imputer to handle missing values\n",
    "imputer = SimpleImputer(strategy='mean')  # You can choose a different strategy if desired\n",
    "\n",
    "# Fit the imputer to x_train and transform x_train\n",
    "x_train_imputed = imputer.fit_transform(x_train)\n",
    "x_test_imputed = imputer.fit_transform(x_test)\n",
    "\n",
    "rf = RandomForestRegressor(max_depth=2, random_state=100)\n",
    "rf.fit(x_train_imputed, y_train)"
   ]
  },
  {
   "cell_type": "code",
   "execution_count": 169,
   "metadata": {},
   "outputs": [
    {
     "data": {
      "text/plain": [
       "array([1.80355367e+02, 3.90892548e-04, 2.15690147e+02, ...,\n",
       "       1.80355367e+02, 1.80355367e+02, 3.90892548e-04])"
      ]
     },
     "execution_count": 169,
     "metadata": {},
     "output_type": "execute_result"
    }
   ],
   "source": [
    "rf_y_train_pred = rf.predict(x_train_imputed)\n",
    "rf_y_test_pred = rf.predict(x_test_imputed)\n",
    "\n",
    "rf_y_train_pred"
   ]
  },
  {
   "cell_type": "code",
   "execution_count": 170,
   "metadata": {},
   "outputs": [
    {
     "data": {
      "text/plain": [
       "array([3.90892548e-04, 2.15690147e+02, 3.90892548e-04, ...,\n",
       "       1.80355367e+02, 1.80355367e+02, 2.15690147e+02])"
      ]
     },
     "execution_count": 170,
     "metadata": {},
     "output_type": "execute_result"
    }
   ],
   "source": [
    "rf_y_test_pred"
   ]
  },
  {
   "cell_type": "markdown",
   "metadata": {},
   "source": [
    "#### Evaluate Model Performance"
   ]
  },
  {
   "cell_type": "code",
   "execution_count": 171,
   "metadata": {},
   "outputs": [],
   "source": [
    "from sklearn.metrics import mean_squared_error, r2_score\n",
    "\n",
    "rf_train_mse = mean_squared_error(y_train, rf_y_train_pred)\n",
    "rf_train_r2 = r2_score(y_train, rf_y_train_pred)\n",
    "\n",
    "rf_test_mse = mean_squared_error(y_test, rf_y_test_pred)\n",
    "rf_test_r2 = r2_score(y_test, rf_y_test_pred)"
   ]
  },
  {
   "cell_type": "code",
   "execution_count": 172,
   "metadata": {},
   "outputs": [],
   "source": [
    "rf_results = pd.DataFrame(['Random forest', rf_train_mse, rf_train_r2, rf_test_mse, rf_test_r2]).transpose()\n",
    "rf_results.columns = ['Method', 'Training MSE', 'Training R2', 'Test MSE', 'Test R2']"
   ]
  },
  {
   "cell_type": "code",
   "execution_count": 173,
   "metadata": {},
   "outputs": [
    {
     "data": {
      "text/html": [
       "<div>\n",
       "<style scoped>\n",
       "    .dataframe tbody tr th:only-of-type {\n",
       "        vertical-align: middle;\n",
       "    }\n",
       "\n",
       "    .dataframe tbody tr th {\n",
       "        vertical-align: top;\n",
       "    }\n",
       "\n",
       "    .dataframe thead th {\n",
       "        text-align: right;\n",
       "    }\n",
       "</style>\n",
       "<table border=\"1\" class=\"dataframe\">\n",
       "  <thead>\n",
       "    <tr style=\"text-align: right;\">\n",
       "      <th></th>\n",
       "      <th>Method</th>\n",
       "      <th>Training MSE</th>\n",
       "      <th>Training R2</th>\n",
       "      <th>Test MSE</th>\n",
       "      <th>Test R2</th>\n",
       "    </tr>\n",
       "  </thead>\n",
       "  <tbody>\n",
       "    <tr>\n",
       "      <th>0</th>\n",
       "      <td>Random forest</td>\n",
       "      <td>1029.316253</td>\n",
       "      <td>0.871665</td>\n",
       "      <td>1017.676398</td>\n",
       "      <td>0.870684</td>\n",
       "    </tr>\n",
       "  </tbody>\n",
       "</table>\n",
       "</div>"
      ],
      "text/plain": [
       "          Method Training MSE Training R2     Test MSE   Test R2\n",
       "0  Random forest  1029.316253    0.871665  1017.676398  0.870684"
      ]
     },
     "execution_count": 173,
     "metadata": {},
     "output_type": "execute_result"
    }
   ],
   "source": [
    "rf_results"
   ]
  },
  {
   "cell_type": "markdown",
   "metadata": {},
   "source": [
    "### Model comparison"
   ]
  },
  {
   "cell_type": "code",
   "execution_count": 174,
   "metadata": {},
   "outputs": [
    {
     "data": {
      "text/html": [
       "<div>\n",
       "<style scoped>\n",
       "    .dataframe tbody tr th:only-of-type {\n",
       "        vertical-align: middle;\n",
       "    }\n",
       "\n",
       "    .dataframe tbody tr th {\n",
       "        vertical-align: top;\n",
       "    }\n",
       "\n",
       "    .dataframe thead th {\n",
       "        text-align: right;\n",
       "    }\n",
       "</style>\n",
       "<table border=\"1\" class=\"dataframe\">\n",
       "  <thead>\n",
       "    <tr style=\"text-align: right;\">\n",
       "      <th></th>\n",
       "      <th>Method</th>\n",
       "      <th>Training MSE</th>\n",
       "      <th>Training R2</th>\n",
       "      <th>Test MSE</th>\n",
       "      <th>Test R2</th>\n",
       "    </tr>\n",
       "  </thead>\n",
       "  <tbody>\n",
       "    <tr>\n",
       "      <th>0</th>\n",
       "      <td>Hist Gradient Boosting Regressor</td>\n",
       "      <td>40.09352</td>\n",
       "      <td>0.995001</td>\n",
       "      <td>81.578187</td>\n",
       "      <td>0.989634</td>\n",
       "    </tr>\n",
       "    <tr>\n",
       "      <th>0</th>\n",
       "      <td>Random forest</td>\n",
       "      <td>1029.316253</td>\n",
       "      <td>0.871665</td>\n",
       "      <td>1017.676398</td>\n",
       "      <td>0.870684</td>\n",
       "    </tr>\n",
       "  </tbody>\n",
       "</table>\n",
       "</div>"
      ],
      "text/plain": [
       "                             Method Training MSE Training R2     Test MSE   \n",
       "0  Hist Gradient Boosting Regressor     40.09352    0.995001    81.578187  \\\n",
       "0                     Random forest  1029.316253    0.871665  1017.676398   \n",
       "\n",
       "    Test R2  \n",
       "0  0.989634  \n",
       "0  0.870684  "
      ]
     },
     "execution_count": 174,
     "metadata": {},
     "output_type": "execute_result"
    }
   ],
   "source": [
    "df_models = pd.concat([hgbr_results, rf_results], axis=0)\n",
    "df_models"
   ]
  },
  {
   "cell_type": "markdown",
   "metadata": {},
   "source": [
    "# Data Visualization"
   ]
  },
  {
   "cell_type": "code",
   "execution_count": 175,
   "metadata": {},
   "outputs": [
    {
     "data": {
      "text/plain": [
       "Text(0.5, 0, 'Experimental Votes')"
      ]
     },
     "execution_count": 175,
     "metadata": {},
     "output_type": "execute_result"
    },
    {
     "data": {
      "image/png": "[encoded data removed]",
      "text/plain": [
       "<Figure size 500x500 with 1 Axes>"
      ]
     },
     "metadata": {},
     "output_type": "display_data"
    }
   ],
   "source": [
    "import matplotlib.pyplot as plt\n",
    "import numpy as np\n",
    "\n",
    "plt.figure(figsize=(5,5))\n",
    "plt.scatter(x=y_train, y=hgbr_y_train_pred, alpha=0.3)\n",
    "\n",
    "z = np.polyfit(y_train, hgbr_y_train_pred, 1)\n",
    "p = np.poly1d(z)\n",
    "\n",
    "plt.plot(y_train, p(y_train), '#F8766D')\n",
    "plt.ylabel('Predict Votes')\n",
    "plt.xlabel('Experimental Votes')"
   ]
  }
 ],
 "metadata": {
  "kernelspec": {
   "display_name": "Python 3.11.8 64-bit (microsoft store)",
   "language": "python",
   "name": "python3"
  },
  "language_info": {
   "codemirror_mode": {
    "name": "ipython",
    "version": 3
   },
   "file_extension": ".py",
   "mimetype": "text/x-python",
   "name": "python",
   "nbconvert_exporter": "python",
   "pygments_lexer": "ipython3",
   "version": "3.11.8"
  },
  "orig_nbformat": 4,
  "vscode": {
   "interpreter": {
    "hash": "f5d60dadaadefcdc8ea71f1b2a7d61f81b140c3ffed39f6be6e95efa72c685b2"
   }
  }
 },
 "nbformat": 4,
 "nbformat_minor": 2
}
